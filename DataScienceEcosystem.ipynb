{
 "cells": [
  {
   "cell_type": "markdown",
   "id": "c82cd2c1-6f2a-40db-a6a8-92e2e9f3abf7",
   "metadata": {},
   "source": [
    "# Data Science Tools and Ecosystem"
   ]
  },
  {
   "cell_type": "markdown",
   "id": "b7400831-22e3-48f8-b800-e3490bf60a42",
   "metadata": {},
   "source": [
    "# In this notebook, Data Science Tools and Ecosystem are summarized"
   ]
  },
  {
   "cell_type": "markdown",
   "id": "6bd0aef0-ea58-4f14-8913-44dcb1ce25ec",
   "metadata": {},
   "source": [
    "**Objectives:**\n",
    "-  Python\n",
    "-  R\n",
    "-  SQL"
   ]
  },
  {
   "cell_type": "markdown",
   "id": "375d0699-6d7d-4805-941a-9541c103595d",
   "metadata": {},
   "source": [
    "# Some of the popular languages that Data Scientists use are:\n",
    "1. Python\n",
    "2. R\n",
    "3. SQL"
   ]
  },
  {
   "cell_type": "markdown",
   "id": "feb5051e-a927-4c91-bdb9-aad2746372dc",
   "metadata": {},
   "source": [
    "# Some of the commonly used libraries used by Data Scientists include:\n",
    "1. Numpy\n",
    "2. Pandas\n",
    "3. Matplotlib"
   ]
  },
  {
   "cell_type": "markdown",
   "id": "2dd9d664-5241-4cae-b855-519c7dfaae09",
   "metadata": {},
   "source": [
    "|Data Science Tools|\n",
    "|------------------|\n",
    "|Apache Spark|\n",
    "|Apache Hadoop|\n",
    "|TensorFlow|"
   ]
  },
  {
   "cell_type": "markdown",
   "id": "840be993-cf47-4191-8e0f-a43b8181e79f",
   "metadata": {},
   "source": [
    "### Below are a few examples of evaluating arithmetic expressions in Python"
   ]
  },
  {
   "cell_type": "code",
   "execution_count": 1,
   "id": "28b0e0cc-2373-45f8-969d-45cd640fea2a",
   "metadata": {
    "tags": []
   },
   "outputs": [
    {
     "data": {
      "text/plain": [
       "17"
      ]
     },
     "execution_count": 1,
     "metadata": {},
     "output_type": "execute_result"
    }
   ],
   "source": [
    "#This a simple arithmetic expression to mutiply then add integers\n",
    "(3*4)+5"
   ]
  },
  {
   "cell_type": "code",
   "execution_count": 12,
   "id": "e5363ccb-1f4e-4c3d-949f-fc5168127cc7",
   "metadata": {
    "tags": []
   },
   "outputs": [
    {
     "name": "stdout",
     "output_type": "stream",
     "text": [
      "3h 20min\n",
      "3h 20min\n"
     ]
    }
   ],
   "source": [
    "#This will convert 200 minutes to hours by diving by 60\n",
    "minutes = 200\n",
    "factor = 60\n",
    "hours = int(minutes/factor)\n",
    "remainder = minutes%factor\n",
    "print(str(hours) +'h ' + str(remainder) + 'min')\n",
    "#also as one expression or one line of code\n",
    "print(str(int(200/60)) + 'h ' + str(200%60) + 'min')"
   ]
  },
  {
   "cell_type": "markdown",
   "id": "e61322a3-aae9-4794-b71a-a76b3ae966c9",
   "metadata": {},
   "source": [
    "## Author\n",
    "Petica Stefan"
   ]
  },
  {
   "cell_type": "code",
   "execution_count": null,
   "id": "19972942-0343-49bc-a9fa-2ba5a53d7d8b",
   "metadata": {},
   "outputs": [],
   "source": []
  }
 ],
 "metadata": {
  "kernelspec": {
   "display_name": "Python",
   "language": "python",
   "name": "conda-env-python-py"
  },
  "language_info": {
   "codemirror_mode": {
    "name": "ipython",
    "version": 3
   },
   "file_extension": ".py",
   "mimetype": "text/x-python",
   "name": "python",
   "nbconvert_exporter": "python",
   "pygments_lexer": "ipython3",
   "version": "3.7.12"
  }
 },
 "nbformat": 4,
 "nbformat_minor": 5
}
